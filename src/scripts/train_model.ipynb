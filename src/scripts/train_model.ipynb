{
 "cells": [
  {
   "cell_type": "code",
   "execution_count": null,
   "outputs": [],
   "source": [
    "!git clone https://github.com/tdw75/research-seminar-point-cloud-data-analysis.git"
   ],
   "metadata": {
    "collapsed": false
   },
   "id": "e3c5e52c997f2f13"
  },
  {
   "cell_type": "code",
   "execution_count": null,
   "outputs": [],
   "source": [
    "import torch\n",
    "\n",
    "!pip uninstall torch-scatter torch-sparse torch-geometric torch-cluster  --y\n",
    "!pip install torch-scatter -f https://data.pyg.org/whl/torch-{torch.__version__}.html\n",
    "!pip install torch-sparse -f https://data.pyg.org/whl/torch-{torch.__version__}.html\n",
    "!pip install torch-cluster -f https://data.pyg.org/whl/torch-{torch.__version__}.html\n",
    "!pip install git+https://github.com/pyg-team/pytorch_geometric.git"
   ],
   "metadata": {
    "collapsed": false
   },
   "id": "1aa784ebc763b51"
  },
  {
   "cell_type": "code",
   "execution_count": null,
   "outputs": [],
   "source": [
    "import sys\n",
    "sys.path.insert(0, '/content/research-seminar-point-cloud-data-analysis')"
   ],
   "metadata": {
    "collapsed": false
   },
   "id": "866189a91ddd17fb"
  },
  {
   "cell_type": "code",
   "execution_count": null,
   "outputs": [],
   "source": [
    "!mkdir data_files\n",
    "!mkdir data_files/saved_weights"
   ],
   "metadata": {
    "collapsed": false
   },
   "id": "2aaf387fd57a1777"
  },
  {
   "cell_type": "markdown",
   "source": [
    "## Import packages"
   ],
   "metadata": {
    "collapsed": false
   },
   "id": "8c87e815326fa562"
  },
  {
   "cell_type": "code",
   "execution_count": 12,
   "outputs": [],
   "source": [
    "from datetime import datetime\n",
    "\n",
    "import torch\n",
    "import torch_geometric.transforms as T\n",
    "from torch_geometric import seed_everything\n",
    "\n",
    "from src.data.dataset import init_train_data_loader, init_test_data_loaders\n",
    "from src.modelling.pointnet_plusplus import PointNetPlusPlus\n",
    "from src.modelling.training import train_model\n",
    "\n",
    "device = torch.device(\"cuda\" if torch.cuda.is_available() else \"cpu\")"
   ],
   "metadata": {
    "collapsed": false,
    "ExecuteTime": {
     "end_time": "2023-08-14T15:35:52.015995122Z",
     "start_time": "2023-08-14T15:35:51.972099514Z"
    }
   },
   "id": "initial_id"
  },
  {
   "cell_type": "code",
   "execution_count": null,
   "outputs": [],
   "source": [
    "# configuration\n",
    "num_points = 2048\n",
    "num_classes = 10\n",
    "num_epochs = 200\n",
    "num_workers = 2"
   ],
   "metadata": {
    "collapsed": false
   },
   "id": "a20414fa7c94d373"
  },
  {
   "cell_type": "markdown",
   "source": [
    "## Load data"
   ],
   "metadata": {
    "collapsed": false
   },
   "id": "1e414962d849809f"
  },
  {
   "cell_type": "code",
   "execution_count": 7,
   "outputs": [],
   "source": [
    "root = \"../../data_files\"\n",
    "seed_everything(0)\n",
    "pre_transform, transform = T.NormalizeScale(), T.SamplePoints(64)\n",
    "train_loader = init_train_data_loader(\n",
    "    f\"{root}/modelnet\", num_points, num_classes, batch_size=32, shuffle=True, num_workers=num_workers\n",
    ")\n",
    "seed_everything(0)\n",
    "test_loaders = init_test_data_loaders(\n",
    "    f\"{root}/modelnet\", train_loader, num_classes, is_affine_transformations=True\n",
    ")"
   ],
   "metadata": {
    "collapsed": false,
    "ExecuteTime": {
     "end_time": "2023-08-14T15:15:23.857914811Z",
     "start_time": "2023-08-14T15:15:22.190714936Z"
    }
   },
   "id": "88f5fb01eba233ff"
  },
  {
   "cell_type": "code",
   "execution_count": 11,
   "outputs": [],
   "source": [
    "saved_weights = None\n",
    "net = PointNetPlusPlus()\n",
    "\n",
    "if saved_weights:\n",
    "    path = f\"{root}/saved_weights/weights_{saved_weights}.pth\"\n",
    "    net.load_state_dict(torch.load(path))\n",
    "else:\n",
    "    dt = datetime.now().replace(microsecond=0)\n",
    "    path = f\"{root}/saved_weights/weights_{dt}_{num_classes}_{num_points}_{num_epochs}.pth\"\n",
    "    train_model(net, train_loader, test_loaders[\"original\"], n_epochs=num_epochs)\n",
    "    torch.save(net.state_dict(), path)"
   ],
   "metadata": {
    "collapsed": false,
    "ExecuteTime": {
     "end_time": "2023-08-14T15:33:51.503293195Z",
     "start_time": "2023-08-14T15:33:51.417673485Z"
    }
   },
   "id": "84ef5893c957cb07"
  },
  {
   "cell_type": "markdown",
   "source": [
    "## Test"
   ],
   "metadata": {
    "collapsed": false
   },
   "id": "2eddd2305482cf6a"
  },
  {
   "cell_type": "code",
   "execution_count": 13,
   "outputs": [
    {
     "name": "stdout",
     "output_type": "stream",
     "text": [
      "original 0.8755506607929515\n",
      "flipped 0.6189427312775331\n",
      "rotated 0.44383259911894274\n",
      "scaled 0.236784140969163\n"
     ]
    }
   ],
   "source": [
    "from src.modelling.training import val_step\n",
    "\n",
    "for key in test_loaders:\n",
    "    print(key, val_step(net, test_loaders[key], device))"
   ],
   "metadata": {
    "collapsed": false,
    "ExecuteTime": {
     "end_time": "2023-08-14T15:39:32.865437481Z",
     "start_time": "2023-08-14T15:36:30.886325976Z"
    }
   },
   "id": "2f28f181c4ae4d0"
  }
 ],
 "metadata": {
  "kernelspec": {
   "display_name": "Python 3",
   "language": "python",
   "name": "python3"
  },
  "language_info": {
   "codemirror_mode": {
    "name": "ipython",
    "version": 2
   },
   "file_extension": ".py",
   "mimetype": "text/x-python",
   "name": "python",
   "nbconvert_exporter": "python",
   "pygments_lexer": "ipython2",
   "version": "2.7.6"
  }
 },
 "nbformat": 4,
 "nbformat_minor": 5
}
